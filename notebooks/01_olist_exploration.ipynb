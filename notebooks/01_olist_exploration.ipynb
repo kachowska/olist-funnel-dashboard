{
 "cells": [
  {
   "cell_type": "markdown",
   "id": "7713c2fc",
   "metadata": {},
   "source": [
    "# Olist E-commerce — Exploration & Funnel\n",
    "\n",
    "This notebook explores the Olist Kaggle dataset and prepares inputs for the Sales Funnel Dashboard."
   ]
  },
  {
   "cell_type": "code",
   "execution_count": null,
   "id": "b3fc148d",
   "metadata": {},
   "outputs": [],
   "source": [
    "\n",
    "import pandas as pd\n",
    "from pathlib import Path\n",
    "\n",
    "RAW = Path('data/raw')\n",
    "display(RAW.resolve())\n"
   ]
  },
  {
   "cell_type": "markdown",
   "id": "4348a062",
   "metadata": {},
   "source": [
    "## Load CSVs"
   ]
  },
  {
   "cell_type": "code",
   "execution_count": null,
   "id": "b4ae2f2f",
   "metadata": {},
   "outputs": [],
   "source": [
    "\n",
    "import pandas as pd\n",
    "import numpy as np\n",
    "\n",
    "def read_csv(name):\n",
    "    import glob, os\n",
    "    matches = glob.glob(f\"data/raw/{name}*.csv\")\n",
    "    assert matches, f\"CSV for {name} not found in data/raw/\"\n",
    "    return pd.read_csv(matches[0])\n",
    "\n",
    "orders = read_csv('olist_orders_dataset')\n",
    "customers = read_csv('olist_customers_dataset')\n",
    "payments = read_csv('olist_order_payments_dataset')\n",
    "items = read_csv('olist_order_items_dataset')\n",
    "products = read_csv('olist_products_dataset')\n",
    "\n",
    "orders.head()\n"
   ]
  },
  {
   "cell_type": "markdown",
   "id": "63123f4e",
   "metadata": {},
   "source": [
    "## Basic Cleaning & Derived Fields"
   ]
  },
  {
   "cell_type": "code",
   "execution_count": null,
   "id": "a4569463",
   "metadata": {},
   "outputs": [],
   "source": [
    "\n",
    "date_cols = ['order_purchase_timestamp','order_approved_at','order_delivered_carrier_date','order_delivered_customer_date','order_estimated_delivery_date']\n",
    "for c in date_cols:\n",
    "    if c in orders.columns:\n",
    "        orders[c] = pd.to_datetime(orders[c], errors='coerce')\n",
    "\n",
    "def furthest_stage(row):\n",
    "    stages = [\n",
    "        ('created', pd.notna(row.get('order_purchase_timestamp'))),\n",
    "        ('approved', pd.notna(row.get('order_approved_at'))),\n",
    "        ('delivered_carrier', pd.notna(row.get('order_delivered_carrier_date'))),\n",
    "        ('delivered_customer', pd.notna(row.get('order_delivered_customer_date'))),\n",
    "    ]\n",
    "    last = 'created'\n",
    "    for name, ok in stages:\n",
    "        if ok:\n",
    "            last = name\n",
    "    return last\n",
    "\n",
    "orders['status_stage'] = orders.apply(furthest_stage, axis=1)\n",
    "orders['order_purchase_month'] = orders['order_purchase_timestamp'].dt.to_period('M').dt.to_timestamp()\n",
    "orders.head()\n"
   ]
  },
  {
   "cell_type": "markdown",
   "id": "bd4f76fa",
   "metadata": {},
   "source": [
    "## Join Payments & Items"
   ]
  },
  {
   "cell_type": "code",
   "execution_count": null,
   "id": "c9a4bfd0",
   "metadata": {},
   "outputs": [],
   "source": [
    "\n",
    "payments_agg = payments.groupby('order_id').agg(total_paid=('payment_value','sum')).reset_index()\n",
    "items['revenue'] = items['price'] + items['freight_value']\n",
    "items_agg = items.groupby('order_id').agg(items=('order_item_id','count'), revenue=('revenue','sum')).reset_index()\n",
    "\n",
    "master = (orders\n",
    "          .merge(customers[['customer_id','customer_unique_id','customer_city','customer_state']], on='customer_id', how='left')\n",
    "          .merge(payments_agg, on='order_id', how='left')\n",
    "          .merge(items_agg, on='order_id', how='left'))\n",
    "master.head()\n"
   ]
  },
  {
   "cell_type": "markdown",
   "id": "8accd63e",
   "metadata": {},
   "source": [
    "## Save processed parquet"
   ]
  },
  {
   "cell_type": "code",
   "execution_count": null,
   "id": "b89796d3",
   "metadata": {},
   "outputs": [],
   "source": [
    "\n",
    "import pathlib\n",
    "OUT = pathlib.Path('data/processed'); OUT.mkdir(parents=True, exist_ok=True)\n",
    "master.to_parquet(OUT / 'orders_master.parquet', index=False)\n",
    "OUT.resolve()\n"
   ]
  }
 ],
 "metadata": {},
 "nbformat": 4,
 "nbformat_minor": 5
}
